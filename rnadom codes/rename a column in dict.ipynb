{
 "cells": [
  {
   "cell_type": "markdown",
   "id": "fc9092f5",
   "metadata": {},
   "source": [
    "### column rename using dict"
   ]
  },
  {
   "cell_type": "code",
   "execution_count": null,
   "id": "66b3e64e",
   "metadata": {},
   "outputs": [],
   "source": [
    "import pandas as pd\n",
    "\n",
    "df = pd.read_csv(\n",
    "  'data_deposits.csv',\n",
    "  header = 0,\n",
    "  sep = ',',\n",
    ")\n",
    "\n",
    "#1:1 mapping to new names\n",
    "new_names = {\n",
    "  'firstname': 'name_first',\n",
    "  'lastname': 'name_last',\n",
    "  'city': 'city',\n",
    "  'age': 'trips',\n",
    "  'deposit': 'miles'\n",
    "}\n",
    "\n",
    "#do rename\n",
    "df.rename(\n",
    "  columns = new_names, \n",
    "  inplace = True\n",
    ")\n",
    "\n",
    "print(df.columns)\n",
    "print(df.head(3))"
   ]
  },
  {
   "cell_type": "code",
   "execution_count": null,
   "id": "de568e72",
   "metadata": {},
   "outputs": [],
   "source": []
  }
 ],
 "metadata": {
  "kernelspec": {
   "display_name": "Python 3 (ipykernel)",
   "language": "python",
   "name": "python3"
  },
  "language_info": {
   "codemirror_mode": {
    "name": "ipython",
    "version": 3
   },
   "file_extension": ".py",
   "mimetype": "text/x-python",
   "name": "python",
   "nbconvert_exporter": "python",
   "pygments_lexer": "ipython3",
   "version": "3.9.13"
  }
 },
 "nbformat": 4,
 "nbformat_minor": 5
}
