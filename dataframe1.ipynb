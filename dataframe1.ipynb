{
 "cells": [
  {
   "cell_type": "code",
   "execution_count": null,
   "id": "36de1a0b",
   "metadata": {},
   "outputs": [],
   "source": [
    "#importing pyspark\n",
    "import pyspark"
   ]
  },
  {
   "cell_type": "code",
   "execution_count": null,
   "id": "659a8ade",
   "metadata": {},
   "outputs": [],
   "source": [
    "#importing sparksession\n",
    "from pyspark.sql import SparkSession"
   ]
  },
  {
   "cell_type": "code",
   "execution_count": null,
   "id": "02faf3e7",
   "metadata": {},
   "outputs": [],
   "source": [
    "#creating a sparksession object and providing appName \n",
    "spark=SparkSession.builder.appName(\"business_case\").getOrCreate()"
   ]
  },
  {
   "cell_type": "code",
   "execution_count": null,
   "id": "d30f7ec2",
   "metadata": {},
   "outputs": [],
   "source": [
    "#spark.stop()"
   ]
  },
  {
   "cell_type": "code",
   "execution_count": null,
   "id": "2a7f7ec3",
   "metadata": {},
   "outputs": [],
   "source": [
    "#To create dataframe form External datasets\n",
    "AirlineDF = spark.read.option(\"header\", \"true\").csv(\"airlines1.csv\")"
   ]
  },
  {
   "cell_type": "code",
   "execution_count": null,
   "id": "b418d362",
   "metadata": {},
   "outputs": [],
   "source": [
    "AirlineDF.show()"
   ]
  },
  {
   "cell_type": "code",
   "execution_count": null,
   "id": "71f7c10a",
   "metadata": {},
   "outputs": [],
   "source": [
    "# for all columns\n",
    "AirlineDF.columns"
   ]
  },
  {
   "cell_type": "markdown",
   "id": "1c03fdc9",
   "metadata": {},
   "source": [
    "# create multiple dataframes as per data information"
   ]
  },
  {
   "cell_type": "code",
   "execution_count": null,
   "id": "40ba7073",
   "metadata": {},
   "outputs": [],
   "source": [
    "AirlineTimeInfo = AirlineDF.select(\"_c0\",\"Year\",\"Quarter\", \"Month\", \"DayofMonth\", \"DayofWeek\" , \"FlightDate\" )\n",
    "AirlineInfo = AirlineDF.select(\"_c0\",\"Reporting_Airline\",\"DOT_ID_Reporting_Airline\", \"IATA_CODE_Reporting_Airline\", \"Tail_Number\", \"Flight_Number_Reporting_Airline\" )\n",
    "AirlineOriginInfo = AirlineDF.select(\"_c0\",\"OriginAirportID\",\"OriginAirportSeqID\", \"OriginCityMarketID\", \"Origin\", \"OriginCityName\" , \"OriginState\", \"OriginStateFips\", \"OriginStateName\", \"OriginWac\" )\n",
    "AirlineDestinationInfo = AirlineDF.select(\"_c0\",\"DestAirportID\",\"DestAirportSeqID\", \"DestCityMarketID\", \"Dest\", \"DestCityName\" , \"DestState\", \"DestStateFips\", \"DestStateName\", \"DestWac\" )\n",
    "AirlineDepartureInfo = AirlineDF.select(\"_c0\",\"CRSDepTime\",\"DepTime\", \"DepDelay\", \"DepDelayMinutes\", \"DepDel15\" , \"DepartureDelayGroups\", \"DepTimeBlk\", \"TaxiOut\", \"WheelsOff\" )\n",
    "AirlineArrivalInfo = AirlineDF.select(\"_c0\",\"WheelsOn\",\"TaxiIn\", \"CRSArrTime\", \"ArrTime\", \"ArrDelay\" , \"ArrDelayMinutes\", \"ArrDel15\", \"ArrivalDelayGroups\", \"ArrTimeBlk\" )\n",
    "AirlineCanDivInfo = AirlineDF.select(\"_c0\",\"Cancelled\",\"CancellationCode\", \"Diverted\" )\n",
    "AirlineSummry = AirlineDF.select(\"_c0\",\"CRSElapsedTime\",\"ActualElapsedTime\", \"AirTime\", \"Flights\", \"Distance\" , \"DistanceGroup\" )\n",
    "AirlineDelayInfo = AirlineDF.select(\"_c0\",\"CarrierDelay\",\"WeatherDelay\", \"NASDelay\", \"SecurityDelay\", \"LateAircraftDelay\" ) \n"
   ]
  },
  {
   "cell_type": "code",
   "execution_count": null,
   "id": "0507aeb8",
   "metadata": {},
   "outputs": [],
   "source": [
    "#AirlineTimeInfo.summary().show()\n",
    "AirlineTimeInfo.show()"
   ]
  },
  {
   "cell_type": "code",
   "execution_count": null,
   "id": "130f190f",
   "metadata": {},
   "outputs": [],
   "source": [
    "# calculate total no of flights\n",
    "AirlineTimeInfo.select('_c0').count()"
   ]
  },
  {
   "cell_type": "code",
   "execution_count": null,
   "id": "0dc5dad5",
   "metadata": {},
   "outputs": [],
   "source": [
    "# select year form 2000 to 2020\n",
    "AirlineTimeInfo.select('Year','FlightDate').filter((AirlineTimeInfo.Year >= 2015) & (AirlineTimeInfo.Year <= 2020)).show()"
   ]
  },
  {
   "cell_type": "code",
   "execution_count": null,
   "id": "89760998",
   "metadata": {},
   "outputs": [],
   "source": [
    "AirlineInfo.show()"
   ]
  },
  {
   "cell_type": "code",
   "execution_count": null,
   "id": "4d362d74",
   "metadata": {},
   "outputs": [],
   "source": [
    "#AirlineInfo.select('IATA_CODE_Reporting_Airline').groupBy('IATA_CODE_Reporting_Airline').count().show()\n",
    "## Group data by Carrier which is Reporting_Airline\n",
    "AirlineInfo.select('Reporting_Airline').groupBy('Reporting_Airline').count().show()"
   ]
  },
  {
   "cell_type": "code",
   "execution_count": null,
   "id": "f3c3f607",
   "metadata": {},
   "outputs": [],
   "source": [
    "CarrierDF = spark.read.option(\"header\", \"true\").csv(\"carriers.csv\")"
   ]
  },
  {
   "cell_type": "code",
   "execution_count": null,
   "id": "4d98653f",
   "metadata": {},
   "outputs": [],
   "source": [
    "CarrierDF.show(200)"
   ]
  },
  {
   "cell_type": "code",
   "execution_count": null,
   "id": "33e1e0f4",
   "metadata": {},
   "outputs": [],
   "source": [
    "AirlineOriginInfo.show(5)"
   ]
  },
  {
   "cell_type": "code",
   "execution_count": null,
   "id": "8da78203",
   "metadata": {},
   "outputs": [],
   "source": [
    "AirlineDestinationInfo.show(5)"
   ]
  },
  {
   "cell_type": "code",
   "execution_count": null,
   "id": "6859c0a8",
   "metadata": {},
   "outputs": [],
   "source": [
    "AirlineDepartureInfo.show(5)"
   ]
  },
  {
   "cell_type": "code",
   "execution_count": null,
   "id": "65a26c56",
   "metadata": {},
   "outputs": [],
   "source": [
    "#find flights 15 min or more than 15 min delay departure\n",
    "AirlineDepartureInfo.select('_c0','DepDelayMinutes').filter(\"DepDelayMinutes < 15\").show()"
   ]
  },
  {
   "cell_type": "code",
   "execution_count": null,
   "id": "00926313",
   "metadata": {},
   "outputs": [],
   "source": [
    "# calculate total no of departure delay flights (15 min or more than 15 min delay)\n",
    "AirlineDepartureInfo.select('DepDelayMinutes').filter(\"DepDelayMinutes >= 15\").count()"
   ]
  },
  {
   "cell_type": "code",
   "execution_count": null,
   "id": "b0e483a7",
   "metadata": {
    "scrolled": true
   },
   "outputs": [],
   "source": [
    "AirlineArrivalInfo.show(5)"
   ]
  },
  {
   "cell_type": "code",
   "execution_count": null,
   "id": "94529c2d",
   "metadata": {},
   "outputs": [],
   "source": [
    "#find flights 15 min or more than 15 min delay Arrive\n",
    "AirlineArrivalInfo.select('_c0','ArrDelayMinutes').filter(\"ArrDelayMinutes >= 15\").show()"
   ]
  },
  {
   "cell_type": "code",
   "execution_count": null,
   "id": "256bbd2b",
   "metadata": {},
   "outputs": [],
   "source": [
    "#calculate total no of Arrival delay flights (15 min or more than 15 min delay)\n",
    "AirlineArrivalInfo.select('ArrDelayMinutes').filter(\"ArrDelayMinutes >= 15\").count()"
   ]
  },
  {
   "cell_type": "code",
   "execution_count": null,
   "id": "94b77598",
   "metadata": {},
   "outputs": [],
   "source": [
    "AirlineCanDivInfo.show(5)"
   ]
  },
  {
   "cell_type": "code",
   "execution_count": null,
   "id": "73685602",
   "metadata": {},
   "outputs": [],
   "source": [
    "#calculate total number of cancelled flights\n",
    "AirlineCanDivInfo.select('Cancelled').filter(\"Cancelled  == 1\").count()"
   ]
  },
  {
   "cell_type": "code",
   "execution_count": null,
   "id": "cd833dd8",
   "metadata": {},
   "outputs": [],
   "source": [
    "#calculate total number of diverted flights\n",
    "AirlineCanDivInfo.select('Diverted').filter(\"Diverted  == 1\").count()"
   ]
  },
  {
   "cell_type": "code",
   "execution_count": null,
   "id": "47d8698d",
   "metadata": {},
   "outputs": [],
   "source": [
    "AirlineSummry.show(5)"
   ]
  },
  {
   "cell_type": "code",
   "execution_count": null,
   "id": "7c535983",
   "metadata": {},
   "outputs": [],
   "source": [
    "AirlineDelayInfo.show(5)"
   ]
  },
  {
   "cell_type": "code",
   "execution_count": null,
   "id": "054763f8",
   "metadata": {},
   "outputs": [],
   "source": [
    "#calculate total no of CarrierDelay\n",
    "AirlineDelayInfo.select('CarrierDelay').filter(\"CarrierDelay > 0\").count()"
   ]
  },
  {
   "cell_type": "code",
   "execution_count": null,
   "id": "93db772e",
   "metadata": {},
   "outputs": [],
   "source": [
    "#calculate total no of WeatherDelay\n",
    "AirlineDelayInfo.select('WeatherDelay').filter(\"WeatherDelay > 0\").count()"
   ]
  },
  {
   "cell_type": "code",
   "execution_count": null,
   "id": "025b8f92",
   "metadata": {},
   "outputs": [],
   "source": [
    "#calculate total no of NASDelay\n",
    "AirlineDelayInfo.select('NASDelay').filter(\"NASDelay > 0\").count()"
   ]
  },
  {
   "cell_type": "code",
   "execution_count": null,
   "id": "67335d6b",
   "metadata": {},
   "outputs": [],
   "source": [
    "#calculate total no of SecurityDelay\n",
    "AirlineDelayInfo.select('SecurityDelay').filter(\"SecurityDelay > 0\").count()"
   ]
  },
  {
   "cell_type": "code",
   "execution_count": null,
   "id": "41410fe8",
   "metadata": {},
   "outputs": [],
   "source": [
    "#calculate total no of LateAircraftDelay\n",
    "AirlineDelayInfo.select('LateAircraftDelay').filter(\"LateAircraftDelay > 0\").count()"
   ]
  },
  {
   "cell_type": "markdown",
   "id": "68329eea",
   "metadata": {},
   "source": [
    "# Joins "
   ]
  },
  {
   "cell_type": "code",
   "execution_count": null,
   "id": "087bd850",
   "metadata": {},
   "outputs": [],
   "source": [
    "# join two dataframe \n",
    "AirlineTimeInfo.join(AirlineInfo,AirlineTimeInfo._c0 ==  AirlineInfo._c0).show(2)"
   ]
  },
  {
   "cell_type": "code",
   "execution_count": null,
   "id": "acee4d71",
   "metadata": {
    "scrolled": false
   },
   "outputs": [],
   "source": [
    "# join three dataframe\n",
    "AirlineTimeInfo.join(AirlineInfo,[\"_c0\"]).join(AirlineCanDivInfo,AirlineTimeInfo[\"_c0\"] == AirlineCanDivInfo[\"_c0\"]).show(2)"
   ]
  },
  {
   "cell_type": "code",
   "execution_count": null,
   "id": "eb2286a3",
   "metadata": {},
   "outputs": [],
   "source": [
    "#join two dataframe query\n",
    "DelayDF1 = AirlineTimeInfo.select('_c0','Year').filter((AirlineTimeInfo.Year >= 2000) & (AirlineTimeInfo.Year <= 2020)) \\\n",
    ".join(AirlineInfo.select('_c0','Reporting_Airline').groupBy('Reporting_Airline').count() \\\n",
    "      ,AirlineTimeInfo._c0 ==  AirlineInfo._c0,\"inner\").withColumnRenamed(\"count\", \"Total Flights\")"
   ]
  },
  {
   "cell_type": "code",
   "execution_count": null,
   "id": "be8171a1",
   "metadata": {
    "scrolled": true
   },
   "outputs": [],
   "source": [
    "DelayDF1.show()"
   ]
  },
  {
   "cell_type": "code",
   "execution_count": null,
   "id": "4f1a1b3f",
   "metadata": {},
   "outputs": [],
   "source": [
    "#AirlineInfo.select('Reporting_Airline').distinct().show()"
   ]
  },
  {
   "cell_type": "markdown",
   "id": "177ed3a3",
   "metadata": {},
   "source": [
    "# Create DataFrame"
   ]
  },
  {
   "cell_type": "code",
   "execution_count": null,
   "id": "0f0b1325",
   "metadata": {},
   "outputs": [],
   "source": [
    "AirlineDF5 = AirlineDF.select(\"_c0\",\"Year\",\"Quarter\", \"Month\", \"DayofMonth\", \"DayofWeek\" , \\\n",
    "                              \"FlightDate\",\"Reporting_Airline\",\"DOT_ID_Reporting_Airline\", \\\n",
    "                              \"IATA_CODE_Reporting_Airline\", \"Tail_Number\", \"Flight_Number_Reporting_Airline\", \\\n",
    "                              \"OriginAirportID\",\"OriginAirportSeqID\", \"OriginCityMarketID\", \"Origin\", \\\n",
    "                              \"OriginCityName\" , \"OriginState\", \"OriginStateFips\", \"OriginStateName\", \\\n",
    "                              \"OriginWac\",\"DestAirportID\",\"DestAirportSeqID\", \"DestCityMarketID\", \\\n",
    "                              \"Dest\", \"DestCityName\" , \"DestState\", \"DestStateFips\", \"DestStateName\", \\\n",
    "                              \"DestWac\",\"CRSDepTime\",\"DepTime\", \"DepDelay\", \"DepDelayMinutes\", \"DepDel15\" , \\\n",
    "                              \"DepartureDelayGroups\", \"DepTimeBlk\", \"TaxiOut\", \"WheelsOff\",\"WheelsOn\",\"TaxiIn\", \\\n",
    "                              \"CRSArrTime\", \"ArrTime\", \"ArrDelay\" , \"ArrDelayMinutes\", \"ArrDel15\", \\\n",
    "                              \"ArrivalDelayGroups\", \"ArrTimeBlk\",\"Cancelled\",\"CancellationCode\", \\\n",
    "                              \"Diverted\",\"CRSElapsedTime\",\"ActualElapsedTime\", \"AirTime\", \"Flights\", \\\n",
    "                              \"Distance\" , \"DistanceGroup\",\"CarrierDelay\",\"WeatherDelay\", \"NASDelay\", \\\n",
    "                              \"SecurityDelay\", \"LateAircraftDelay\" )"
   ]
  },
  {
   "cell_type": "code",
   "execution_count": null,
   "id": "33a81b9f",
   "metadata": {},
   "outputs": [],
   "source": [
    "#group by carrier and count number of flights in each group\n",
    "#AirlineDF5.select('Year','Reporting_Airline').filter((AirlineDF5.Year >= 2000) & (AirlineDF5.Year <= 2020)) \\\n",
    "#.groupBy('Reporting_Airline').count().show()"
   ]
  },
  {
   "cell_type": "code",
   "execution_count": null,
   "id": "3b82d68e",
   "metadata": {},
   "outputs": [],
   "source": [
    "#AirlineDF5.select('Year','Reporting_Airline').filter((AirlineDF5.Year >= 2000) & (AirlineDF5.Year <= 2020)) \\\n",
    "#.filter(\"Cancelled  == 1\").groupBy('Reporting_Airline').count().show()"
   ]
  },
  {
   "cell_type": "markdown",
   "id": "e1b366fb",
   "metadata": {},
   "source": [
    "# Case Study 1 \n",
    "Departure Delay Report for all flights from year 2000 to 2020 by carrier"
   ]
  },
  {
   "cell_type": "code",
   "execution_count": null,
   "id": "0d148fb5",
   "metadata": {},
   "outputs": [],
   "source": [
    "# calculate total no of flights and  group data by Carrier\n",
    "df1 = AirlineDF5.select('Year','Reporting_Airline') \\\n",
    ".filter((AirlineDF5.Year >= 2000) & (AirlineDF5.Year <= 2020)).groupBy('Reporting_Airline') \\\n",
    ".count().withColumnRenamed(\"count\", \"Total Flights\").orderBy(\"Reporting_Airline\")"
   ]
  },
  {
   "cell_type": "code",
   "execution_count": null,
   "id": "5d562ded",
   "metadata": {},
   "outputs": [],
   "source": [
    "df1.show()"
   ]
  },
  {
   "cell_type": "code",
   "execution_count": null,
   "id": "9b9d274e",
   "metadata": {},
   "outputs": [],
   "source": [
    "#Calculate total no of Departure delay flights\n",
    "df2 = AirlineDF5.select('Reporting_Airline','DepDelayMinutes') \\\n",
    ".filter((AirlineDF5.Year >= 2000) & (AirlineDF5.Year <= 2020)) \\\n",
    ".filter(\"DepDelayMinutes >= 10\").groupBy('Reporting_Airline') \\\n",
    ".count().withColumnRenamed(\"count\", \"Total Departure Delay Flights\").orderBy(\"Reporting_Airline\")"
   ]
  },
  {
   "cell_type": "code",
   "execution_count": null,
   "id": "6126af5b",
   "metadata": {},
   "outputs": [],
   "source": [
    "df2.show()"
   ]
  },
  {
   "cell_type": "code",
   "execution_count": null,
   "id": "fc044fcd",
   "metadata": {
    "scrolled": true
   },
   "outputs": [],
   "source": [
    "# calculate total no. of arrival delay flights\n",
    "df3 = AirlineDF5.select('Reporting_Airline','ArrDelayMinutes') \\\n",
    ".filter((AirlineDF5.Year >= 2000) & (AirlineDF5.Year <= 2020)) \\\n",
    ".filter(\"ArrDelayMinutes >= 10\").groupBy('Reporting_Airline') \\\n",
    ".count().withColumnRenamed(\"count\", \"Total Arrival Delay Flights\").orderBy(\"Reporting_Airline\")"
   ]
  },
  {
   "cell_type": "code",
   "execution_count": null,
   "id": "0a66ebd7",
   "metadata": {},
   "outputs": [],
   "source": [
    "df3.show()"
   ]
  },
  {
   "cell_type": "code",
   "execution_count": null,
   "id": "3dc16068",
   "metadata": {},
   "outputs": [],
   "source": [
    "#calculate total no. of cancelled flights\n",
    "df4 = AirlineDF5.select('Reporting_Airline','Cancelled') \\\n",
    ".filter((AirlineDF5.Year >= 2000) & (AirlineDF5.Year <= 2020)) \\\n",
    ".filter(\"Cancelled  == 1\").groupBy('Reporting_Airline') \\\n",
    ".count().withColumnRenamed(\"count\", \"Total Cancelled Flights\").orderBy(\"Reporting_Airline\")"
   ]
  },
  {
   "cell_type": "code",
   "execution_count": null,
   "id": "d0ac27f5",
   "metadata": {},
   "outputs": [],
   "source": [
    "df4.show()"
   ]
  },
  {
   "cell_type": "code",
   "execution_count": null,
   "id": "75b606e6",
   "metadata": {},
   "outputs": [],
   "source": [
    "# calculate total no. of diverted flights\n",
    "df5 = AirlineDF5.select('Reporting_Airline','Diverted') \\\n",
    ".filter((AirlineDF5.Year >= 2000) & (AirlineDF5.Year <= 2020)) \\\n",
    ".filter(\"Diverted  == 1\").groupBy('Reporting_Airline') \\\n",
    ".count().withColumnRenamed(\"count\", \"Total Diverted Flights\").orderBy(\"Reporting_Airline\")"
   ]
  },
  {
   "cell_type": "code",
   "execution_count": null,
   "id": "9c4134cd",
   "metadata": {},
   "outputs": [],
   "source": [
    "df5.show()"
   ]
  },
  {
   "cell_type": "code",
   "execution_count": null,
   "id": "ce4b1de2",
   "metadata": {},
   "outputs": [],
   "source": [
    "# calculate total no. of carrier delay flights\n",
    "df6 = AirlineDF5.select('Reporting_Airline','CarrierDelay') \\\n",
    ".filter((AirlineDF5.Year >= 2000) & (AirlineDF5.Year <= 2020)) \\\n",
    ".filter(\"CarrierDelay > 0\").groupBy('Reporting_Airline') \\\n",
    ".count().withColumnRenamed(\"count\", \"Total CarrierDelay Flights\").orderBy(\"Reporting_Airline\")"
   ]
  },
  {
   "cell_type": "code",
   "execution_count": null,
   "id": "438c3330",
   "metadata": {},
   "outputs": [],
   "source": [
    "df6.show()"
   ]
  },
  {
   "cell_type": "code",
   "execution_count": null,
   "id": "8acd45b0",
   "metadata": {},
   "outputs": [],
   "source": [
    "# calculate total no. of weather delay flights\n",
    "df7 = AirlineDF5.select('Reporting_Airline','WeatherDelay') \\\n",
    ".filter((AirlineDF5.Year >= 2000) & (AirlineDF5.Year <= 2020)) \\\n",
    ".filter(\"WeatherDelay > 0\").groupBy('Reporting_Airline') \\\n",
    ".count().withColumnRenamed(\"count\", \"Total WeatherDelay Flights\").orderBy(\"Reporting_Airline\")"
   ]
  },
  {
   "cell_type": "code",
   "execution_count": null,
   "id": "ecc17790",
   "metadata": {},
   "outputs": [],
   "source": [
    "df7.show()"
   ]
  },
  {
   "cell_type": "code",
   "execution_count": null,
   "id": "b79d4931",
   "metadata": {},
   "outputs": [],
   "source": [
    "#calculate total no. of NAS delay flights\n",
    "df8 = AirlineDF5.select('Reporting_Airline','NASDelay') \\\n",
    ".filter((AirlineDF5.Year >= 2000) & (AirlineDF5.Year <= 2020)) \\\n",
    ".filter(\"NASDelay > 0\").groupBy('Reporting_Airline') \\\n",
    ".count().withColumnRenamed(\"count\", \"Total NASDelay Flights\").orderBy(\"Reporting_Airline\")"
   ]
  },
  {
   "cell_type": "code",
   "execution_count": null,
   "id": "eaa7b3ba",
   "metadata": {},
   "outputs": [],
   "source": [
    "df8.show()"
   ]
  },
  {
   "cell_type": "code",
   "execution_count": null,
   "id": "a8ef3805",
   "metadata": {},
   "outputs": [],
   "source": [
    "#calculate total no. of security delay flights\n",
    "df9 = AirlineDF5.select('Reporting_Airline','SecurityDelay') \\\n",
    ".filter((AirlineDF5.Year >= 2000) & (AirlineDF5.Year <= 2020)) \\\n",
    ".filter(\"SecurityDelay > 0\").groupBy('Reporting_Airline') \\\n",
    ".count().withColumnRenamed(\"count\", \"Total SecurityDelay Flights\").orderBy(\"Reporting_Airline\")"
   ]
  },
  {
   "cell_type": "code",
   "execution_count": null,
   "id": "28eb2d06",
   "metadata": {},
   "outputs": [],
   "source": [
    "df9.show()"
   ]
  },
  {
   "cell_type": "code",
   "execution_count": null,
   "id": "68dfa316",
   "metadata": {},
   "outputs": [],
   "source": [
    "# calculate total no. of late aircraft delay flights\n",
    "df10 = AirlineDF5.select('Reporting_Airline','LateAircraftDelay') \\\n",
    ".filter((AirlineDF5.Year >= 2000) & (AirlineDF5.Year <= 2020)) \\\n",
    ".filter(\"LateAircraftDelay > 0\").groupBy('Reporting_Airline') \\\n",
    ".count().withColumnRenamed(\"count\", \"Total LateAircraftDelay Flights\").orderBy(\"Reporting_Airline\")"
   ]
  },
  {
   "cell_type": "code",
   "execution_count": null,
   "id": "24ce4106",
   "metadata": {},
   "outputs": [],
   "source": [
    "df10.show()"
   ]
  },
  {
   "cell_type": "code",
   "execution_count": null,
   "id": "4c36f05a",
   "metadata": {
    "scrolled": true
   },
   "outputs": [],
   "source": [
    "#df1.join(df2,df1.Reporting_Airline ==  df2.Reporting_Airline,\"inner\").show(2)"
   ]
  },
  {
   "cell_type": "code",
   "execution_count": null,
   "id": "0df40965",
   "metadata": {},
   "outputs": [],
   "source": [
    "#df1.join(df2,[\"Reporting_Airline\"])\\\n",
    "#.join(df3,df1[\"Reporting_Airline\"] == df3[\"Reporting_Airline\"])\\\n",
    "#.show(2)"
   ]
  },
  {
   "cell_type": "code",
   "execution_count": null,
   "id": "02879b61",
   "metadata": {},
   "outputs": [],
   "source": [
    "# joining multiple dataframe\n",
    "DelayReport = df1.alias(\"df1\")\\\n",
    ".join(df2.alias(\"df2\"),[\"Reporting_Airline\"])\\\n",
    ".join(df3.alias(\"df3\"),[\"Reporting_Airline\"])\\\n",
    ".join(df4.alias(\"df4\"),[\"Reporting_Airline\"])\\\n",
    ".join(df5.alias(\"df5\"),[\"Reporting_Airline\"])\\\n",
    ".join(df6.alias(\"df6\"),[\"Reporting_Airline\"])\\\n",
    ".join(df7.alias(\"df7\"),[\"Reporting_Airline\"])\\\n",
    ".join(df8.alias(\"df8\"),[\"Reporting_Airline\"])\\\n",
    ".join(df9.alias(\"df9\"),[\"Reporting_Airline\"])\\\n",
    ".join(df10.alias(\"df10\"),[\"Reporting_Airline\"])"
   ]
  },
  {
   "cell_type": "code",
   "execution_count": null,
   "id": "4f45717f",
   "metadata": {},
   "outputs": [],
   "source": [
    "#complete delay report\n",
    "DelayReport.show(5)"
   ]
  },
  {
   "cell_type": "code",
   "execution_count": null,
   "id": "6343185b",
   "metadata": {},
   "outputs": [],
   "source": [
    "#statistics of DelayReport\n",
    "DelayReport.describe().show()"
   ]
  },
  {
   "cell_type": "code",
   "execution_count": null,
   "id": "6f15b313",
   "metadata": {},
   "outputs": [],
   "source": [
    "# import windows library\n",
    "import pyspark.sql.functions as f\n",
    "from pyspark.sql.window import Window"
   ]
  },
  {
   "cell_type": "code",
   "execution_count": null,
   "id": "4d087dd6",
   "metadata": {},
   "outputs": [],
   "source": [
    "# calculate result in percentage\n",
    "df123 = DelayReport\\\n",
    ".withColumn('depdelaypercent', f.col('Total Departure Delay Flights')/f.col('Total Flights')*100)\\\n",
    ".withColumn('arrdelaypercent', f.col('Total Arrival Delay Flights')/f.col('Total Flights')*100)\\\n",
    ".withColumn('cancelledpercent', f.col('Total Cancelled Flights')/f.col('Total Flights')*100)"
   ]
  },
  {
   "cell_type": "code",
   "execution_count": null,
   "id": "ae1a9359",
   "metadata": {},
   "outputs": [],
   "source": [
    "#DelayReport.groupBy().max('Total Departure Delay Flights').show()"
   ]
  },
  {
   "cell_type": "code",
   "execution_count": null,
   "id": "7784fbf8",
   "metadata": {},
   "outputs": [],
   "source": [
    "df123.select('Reporting_Airline','Total Flights','depdelaypercent','arrdelaypercent','cancelledpercent').show()"
   ]
  },
  {
   "cell_type": "code",
   "execution_count": null,
   "id": "cfbb02c3",
   "metadata": {},
   "outputs": [],
   "source": [
    "#use dense rank for find top rankers by any cloumns\n",
    "from pyspark.sql import Window\n",
    "import pyspark.sql.functions as psf\n",
    "wT_Flights = Window.orderBy(psf.desc(\"Total Flights\")) \n",
    "testdf1 = DelayReport.withColumn(\n",
    "    \"Total Flights_rank\", \n",
    "    psf.dense_rank().over(wT_Flights)\n",
    ")"
   ]
  },
  {
   "cell_type": "code",
   "execution_count": null,
   "id": "c0f18127",
   "metadata": {},
   "outputs": [],
   "source": [
    "# top 10 Carrier by numbers of flights\n",
    "testdf1.show()"
   ]
  },
  {
   "cell_type": "code",
   "execution_count": null,
   "id": "6d91e83f",
   "metadata": {},
   "outputs": [],
   "source": [
    "testdf1.columns"
   ]
  },
  {
   "cell_type": "code",
   "execution_count": null,
   "id": "d01de35c",
   "metadata": {},
   "outputs": [],
   "source": [
    "testdf1.select('Reporting_Airline','Total Flights','Total Flights_rank').show()"
   ]
  },
  {
   "cell_type": "code",
   "execution_count": null,
   "id": "f143cf2e",
   "metadata": {},
   "outputs": [],
   "source": []
  },
  {
   "cell_type": "code",
   "execution_count": null,
   "id": "8797dfb2",
   "metadata": {},
   "outputs": [],
   "source": []
  },
  {
   "cell_type": "code",
   "execution_count": null,
   "id": "ebc4fe30",
   "metadata": {},
   "outputs": [],
   "source": []
  }
 ],
 "metadata": {
  "kernelspec": {
   "display_name": "Python 3 (ipykernel)",
   "language": "python",
   "name": "python3"
  },
  "language_info": {
   "codemirror_mode": {
    "name": "ipython",
    "version": 3
   },
   "file_extension": ".py",
   "mimetype": "text/x-python",
   "name": "python",
   "nbconvert_exporter": "python",
   "pygments_lexer": "ipython3",
   "version": "3.9.7"
  }
 },
 "nbformat": 4,
 "nbformat_minor": 5
}
