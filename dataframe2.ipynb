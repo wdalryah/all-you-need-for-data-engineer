{
  "cells": [
    {
      "cell_type": "code",
      "source": [
        "pip install pyspark"
      ],
      "metadata": {
        "colab": {
          "base_uri": "https://localhost:8080/"
        },
        "id": "FlkPMH1-fB1t",
        "outputId": "f0a48817-7780-462f-aaf1-167ecdf68432"
      },
      "id": "FlkPMH1-fB1t",
      "execution_count": null,
      "outputs": [
        {
          "output_type": "stream",
          "name": "stdout",
          "text": [
            "Collecting pyspark\n",
            "  Downloading pyspark-3.2.1.tar.gz (281.4 MB)\n",
            "\u001b[K     |████████████████████████████████| 281.4 MB 34 kB/s \n",
            "\u001b[?25hCollecting py4j==0.10.9.3\n",
            "  Downloading py4j-0.10.9.3-py2.py3-none-any.whl (198 kB)\n",
            "\u001b[K     |████████████████████████████████| 198 kB 50.9 MB/s \n",
            "\u001b[?25hBuilding wheels for collected packages: pyspark\n",
            "  Building wheel for pyspark (setup.py) ... \u001b[?25l\u001b[?25hdone\n",
            "  Created wheel for pyspark: filename=pyspark-3.2.1-py2.py3-none-any.whl size=281853642 sha256=7a2f46ac45494b77c962f64f99ab6eca0fe29e090faf04b493ff61b9c723d967\n",
            "  Stored in directory: /root/.cache/pip/wheels/9f/f5/07/7cd8017084dce4e93e84e92efd1e1d5334db05f2e83bcef74f\n",
            "Successfully built pyspark\n",
            "Installing collected packages: py4j, pyspark\n",
            "Successfully installed py4j-0.10.9.3 pyspark-3.2.1\n"
          ]
        }
      ]
    },
    {
      "cell_type": "code",
      "execution_count": null,
      "id": "8d97a046",
      "metadata": {
        "id": "8d97a046"
      },
      "outputs": [],
      "source": [
        "#importing pyspark\n",
        "import pyspark\n",
        "#importing sparksession\n",
        "from pyspark.sql import SparkSession"
      ]
    },
    {
      "cell_type": "code",
      "execution_count": null,
      "id": "f2191cb6",
      "metadata": {
        "id": "f2191cb6"
      },
      "outputs": [],
      "source": [
        "#creating a sparksession object and providing appName \n",
        "spark=SparkSession.builder.appName(\"business_case\").getOrCreate()"
      ]
    },
    {
      "cell_type": "code",
      "execution_count": null,
      "id": "9e4d90a8",
      "metadata": {
        "id": "9e4d90a8"
      },
      "outputs": [],
      "source": [
        "#To create dataframe form External datasets\n",
        "AirlineDF = spark.read.option(\"header\", \"true\").csv(\"airlines1.csv\")"
      ]
    },
    {
      "cell_type": "code",
      "execution_count": null,
      "id": "af1b94ba",
      "metadata": {
        "id": "af1b94ba"
      },
      "outputs": [],
      "source": [
        "#AirlineDF.show()"
      ]
    },
    {
      "cell_type": "code",
      "execution_count": null,
      "id": "5b269e2b",
      "metadata": {
        "id": "5b269e2b"
      },
      "outputs": [],
      "source": [
        "AirlineDF5 = AirlineDF.select(\"_c0\",\"Year\",\"Quarter\", \"Month\", \"DayofMonth\", \"DayofWeek\" , \\\n",
        "                              \"FlightDate\",\"Reporting_Airline\",\"DOT_ID_Reporting_Airline\", \\\n",
        "                              \"IATA_CODE_Reporting_Airline\", \"Tail_Number\", \"Flight_Number_Reporting_Airline\", \\\n",
        "                              \"OriginAirportID\",\"OriginAirportSeqID\", \"OriginCityMarketID\", \"Origin\", \\\n",
        "                              \"OriginCityName\" , \"OriginState\", \"OriginStateFips\", \"OriginStateName\", \\\n",
        "                              \"OriginWac\",\"DestAirportID\",\"DestAirportSeqID\", \"DestCityMarketID\", \"Dest\", \\\n",
        "                              \"DestCityName\" , \"DestState\", \"DestStateFips\", \"DestStateName\", \"DestWac\", \\\n",
        "                              \"CRSDepTime\",\"DepTime\", \"DepDelay\", \"DepDelayMinutes\", \"DepDel15\" , \\\n",
        "                              \"DepartureDelayGroups\", \"DepTimeBlk\", \"TaxiOut\", \"WheelsOff\",\"WheelsOn\", \\\n",
        "                              \"TaxiIn\", \"CRSArrTime\", \"ArrTime\", \"ArrDelay\" , \"ArrDelayMinutes\", \"ArrDel15\", \\\n",
        "                              \"ArrivalDelayGroups\", \"ArrTimeBlk\",\"Cancelled\",\"CancellationCode\", \\\n",
        "                              \"Diverted\",\"CRSElapsedTime\",\"ActualElapsedTime\", \"AirTime\", \"Flights\", \\\n",
        "                              \"Distance\" , \"DistanceGroup\",\"CarrierDelay\",\"WeatherDelay\", \"NASDelay\", \\\n",
        "                              \"SecurityDelay\", \"LateAircraftDelay\" )"
      ]
    },
    {
      "cell_type": "markdown",
      "id": "bdba0d37",
      "metadata": {
        "id": "bdba0d37"
      },
      "source": [
        "# Case Study 2 \n",
        "On time Report for all flights, distance travel by each flight 200 miles and more than 200 miles by Origin Airport"
      ]
    },
    {
      "cell_type": "code",
      "execution_count": null,
      "id": "38ce40ec",
      "metadata": {
        "id": "38ce40ec"
      },
      "outputs": [],
      "source": [
        "#calculate total no. of flights\n",
        "df1 = AirlineDF5.select('OriginCityName').filter(\"Distance >= 200\").groupBy('OriginCityName') \\\n",
        ".count().withColumnRenamed(\"count\", \"Total Flights\").orderBy(\"OriginCityName\")"
      ]
    },
    {
      "cell_type": "code",
      "execution_count": null,
      "id": "7867bdbf",
      "metadata": {
        "colab": {
          "base_uri": "https://localhost:8080/"
        },
        "id": "7867bdbf",
        "outputId": "80c2b1ff-011e-4cc0-e0b5-b21d53c03e0e"
      },
      "outputs": [
        {
          "output_type": "stream",
          "name": "stdout",
          "text": [
            "+---------------+-------------+\n",
            "| OriginCityName|Total Flights|\n",
            "+---------------+-------------+\n",
            "|   Aberdeen, SD|            3|\n",
            "|    Abilene, TX|            2|\n",
            "|Adak Island, AK|            2|\n",
            "|  Aguadilla, PR|            4|\n",
            "|      Akron, OH|           35|\n",
            "+---------------+-------------+\n",
            "only showing top 5 rows\n",
            "\n"
          ]
        }
      ],
      "source": [
        "df1.show(5)"
      ]
    },
    {
      "cell_type": "code",
      "execution_count": null,
      "id": "a138b2f1",
      "metadata": {
        "id": "a138b2f1"
      },
      "outputs": [],
      "source": [
        "# calculate total no of on time departure flights\n",
        "df2 = AirlineDF5.select('OriginCityName','DepDelayMinutes') \\\n",
        ".filter(\"Distance >= 200\").filter(\"DepDelayMinutes < 10\").groupBy('OriginCityName') \\\n",
        ".count().withColumnRenamed(\"count\", \"Total OnTime Departure Flights\").orderBy(\"OriginCityName\")"
      ]
    },
    {
      "cell_type": "code",
      "execution_count": null,
      "id": "3230007a",
      "metadata": {
        "colab": {
          "base_uri": "https://localhost:8080/"
        },
        "id": "3230007a",
        "outputId": "2f50712f-6bb7-4143-aa9e-59e12e49fe16"
      },
      "outputs": [
        {
          "output_type": "stream",
          "name": "stdout",
          "text": [
            "+--------------------+------------------------------+\n",
            "|      OriginCityName|Total OnTime Departure Flights|\n",
            "+--------------------+------------------------------+\n",
            "|        Aberdeen, SD|                             2|\n",
            "|         Abilene, TX|                             2|\n",
            "|     Adak Island, AK|                             1|\n",
            "|       Aguadilla, PR|                             3|\n",
            "|           Akron, OH|                            30|\n",
            "|          Albany, NY|                            80|\n",
            "|     Albuquerque, NM|                           221|\n",
            "|      Alexandria, LA|                             3|\n",
            "|Allentown/Bethleh...|                            33|\n",
            "|        Amarillo, TX|                            34|\n",
            "|       Anchorage, AK|                           111|\n",
            "|        Appleton, WI|                             5|\n",
            "|   Arcata/Eureka, CA|                             9|\n",
            "|       Asheville, NC|                             5|\n",
            "|           Aspen, CO|                             5|\n",
            "|         Atlanta, GA|                          1834|\n",
            "|   Atlantic City, NJ|                             4|\n",
            "|          Austin, TX|                           173|\n",
            "|     Bakersfield, CA|                             6|\n",
            "|       Baltimore, MD|                           484|\n",
            "+--------------------+------------------------------+\n",
            "only showing top 20 rows\n",
            "\n"
          ]
        }
      ],
      "source": [
        "df2.show()"
      ]
    },
    {
      "cell_type": "code",
      "execution_count": null,
      "id": "442a8ab9",
      "metadata": {
        "id": "442a8ab9"
      },
      "outputs": [],
      "source": [
        "#calculate total no of on time arrival flights\n",
        "df3 = AirlineDF5.select('OriginCityName','ArrDelayMinutes') \\\n",
        ".filter(\"Distance >= 200\").filter(\"ArrDelayMinutes < 10\").groupBy('OriginCityName') \\\n",
        ".count().withColumnRenamed(\"count\", \"Total OnTime Arrival Flights\").orderBy(\"OriginCityName\")"
      ]
    },
    {
      "cell_type": "code",
      "execution_count": null,
      "id": "73680695",
      "metadata": {
        "colab": {
          "base_uri": "https://localhost:8080/"
        },
        "id": "73680695",
        "outputId": "8e40a728-38ce-4338-abb1-9eab33a86053"
      },
      "outputs": [
        {
          "output_type": "stream",
          "name": "stdout",
          "text": [
            "+--------------------+----------------------------+\n",
            "|      OriginCityName|Total OnTime Arrival Flights|\n",
            "+--------------------+----------------------------+\n",
            "|        Aberdeen, SD|                           2|\n",
            "|         Abilene, TX|                           2|\n",
            "|     Adak Island, AK|                           2|\n",
            "|       Aguadilla, PR|                           2|\n",
            "|           Akron, OH|                          26|\n",
            "|          Albany, NY|                          78|\n",
            "|     Albuquerque, NM|                         212|\n",
            "|      Alexandria, LA|                           3|\n",
            "|Allentown/Bethleh...|                          32|\n",
            "|        Amarillo, TX|                          32|\n",
            "|       Anchorage, AK|                          95|\n",
            "|        Appleton, WI|                           4|\n",
            "|   Arcata/Eureka, CA|                          10|\n",
            "|       Asheville, NC|                           5|\n",
            "|           Aspen, CO|                           4|\n",
            "|         Atlanta, GA|                        1758|\n",
            "|   Atlantic City, NJ|                           4|\n",
            "|          Austin, TX|                         163|\n",
            "|     Bakersfield, CA|                           6|\n",
            "|       Baltimore, MD|                         461|\n",
            "+--------------------+----------------------------+\n",
            "only showing top 20 rows\n",
            "\n"
          ]
        }
      ],
      "source": [
        "df3.show()"
      ]
    },
    {
      "cell_type": "code",
      "execution_count": null,
      "id": "778852c4",
      "metadata": {
        "id": "778852c4"
      },
      "outputs": [],
      "source": [
        "#calculate total no of cancelled flights\n",
        "df4 = AirlineDF5.select('OriginCityName','Cancelled') \\\n",
        ".filter(\"Distance >= 200\").filter(\"Cancelled  == 1\").groupBy('OriginCityName') \\\n",
        ".count().withColumnRenamed(\"count\", \"Total Cancelled Flights\").orderBy(\"OriginCityName\")"
      ]
    },
    {
      "cell_type": "code",
      "execution_count": null,
      "id": "b90c84f5",
      "metadata": {
        "id": "b90c84f5"
      },
      "outputs": [],
      "source": [
        "#calculate total no of diverted flights\n",
        "df5 = AirlineDF5.select('OriginCityName','Diverted').filter(\"Distance >= 200\").filter(\"Diverted  == 1\").groupBy('OriginCityName') \\\n",
        ".count().withColumnRenamed(\"count\", \"Total Diverted Flights\").orderBy(\"OriginCityName\")"
      ]
    },
    {
      "cell_type": "code",
      "execution_count": null,
      "id": "41ec5767",
      "metadata": {
        "id": "41ec5767"
      },
      "outputs": [],
      "source": [
        ""
      ]
    },
    {
      "cell_type": "code",
      "execution_count": null,
      "id": "590c3b5a",
      "metadata": {
        "id": "590c3b5a"
      },
      "outputs": [],
      "source": [
        "#join all dataframe\n",
        "OnTimeCityReport = df1.alias(\"df1\")\\\n",
        ".join(df2.alias(\"df2\"),[\"OriginCityName\"])\\\n",
        ".join(df3.alias(\"df3\"),[\"OriginCityName\"])\\\n",
        ".join(df4.alias(\"df4\"),[\"OriginCityName\"])\\\n",
        ".join(df5.alias(\"df5\"),[\"OriginCityName\"])"
      ]
    },
    {
      "cell_type": "code",
      "execution_count": null,
      "id": "5f0437b1",
      "metadata": {
        "colab": {
          "base_uri": "https://localhost:8080/"
        },
        "id": "5f0437b1",
        "outputId": "0303dd22-8794-4cc5-93c9-570c00f66279"
      },
      "outputs": [
        {
          "output_type": "stream",
          "name": "stdout",
          "text": [
            "+----------------+-------------+------------------------------+----------------------------+-----------------------+----------------------+\n",
            "|  OriginCityName|Total Flights|Total OnTime Departure Flights|Total OnTime Arrival Flights|Total Cancelled Flights|Total Diverted Flights|\n",
            "+----------------+-------------+------------------------------+----------------------------+-----------------------+----------------------+\n",
            "|     Ontario, CA|          228|                           190|                         176|                      3|                     1|\n",
            "|Palm Springs, CA|           57|                            46|                          42|                      3|                     2|\n",
            "|    Columbus, OH|          277|                           219|                         209|                      6|                     3|\n",
            "+----------------+-------------+------------------------------+----------------------------+-----------------------+----------------------+\n",
            "only showing top 3 rows\n",
            "\n"
          ]
        }
      ],
      "source": [
        "#complete on time flights report by origin city\n",
        "OnTimeCityReport.show(3)"
      ]
    },
    {
      "cell_type": "code",
      "execution_count": null,
      "id": "6aeb2600",
      "metadata": {
        "colab": {
          "base_uri": "https://localhost:8080/"
        },
        "id": "6aeb2600",
        "outputId": "4e68be38-8bf8-4d88-88ac-b9214319ee35"
      },
      "outputs": [
        {
          "output_type": "stream",
          "name": "stdout",
          "text": [
            "+---------------+-------------+------------------------------+----------------------------+-----------------------+----------------------+\n",
            "| OriginCityName|Total Flights|Total OnTime Departure Flights|Total OnTime Arrival Flights|Total Cancelled Flights|Total Diverted Flights|\n",
            "+---------------+-------------+------------------------------+----------------------------+-----------------------+----------------------+\n",
            "|Albuquerque, NM|          290|                           221|                         212|                      4|                     2|\n",
            "|    Atlanta, GA|         2456|                          1834|                        1758|                     36|                     6|\n",
            "|     Austin, TX|          213|                           173|                         163|                      1|                     1|\n",
            "|  Baltimore, MD|          651|                           484|                         461|                      6|                     3|\n",
            "+---------------+-------------+------------------------------+----------------------------+-----------------------+----------------------+\n",
            "only showing top 4 rows\n",
            "\n"
          ]
        }
      ],
      "source": [
        "OnTimeCityReport.orderBy(\"OriginCityName\").show(4)"
      ]
    },
    {
      "cell_type": "code",
      "execution_count": null,
      "id": "596ccf60",
      "metadata": {
        "colab": {
          "base_uri": "https://localhost:8080/"
        },
        "id": "596ccf60",
        "outputId": "f2383652-196a-4414-bd45-68a500103faa"
      },
      "outputs": [
        {
          "output_type": "stream",
          "name": "stdout",
          "text": [
            "+-------+----------------+-----------------+------------------------------+----------------------------+-----------------------+----------------------+\n",
            "|summary|  OriginCityName|    Total Flights|Total OnTime Departure Flights|Total OnTime Arrival Flights|Total Cancelled Flights|Total Diverted Flights|\n",
            "+-------+----------------+-----------------+------------------------------+----------------------------+-----------------------+----------------------+\n",
            "|  count|              48|               48|                            48|                          48|                     48|                    48|\n",
            "|   mean|            null|          731.375|                      555.0625|           519.7708333333334|                   12.5|    2.3958333333333335|\n",
            "| stddev|            null|629.3676537740251|              461.969991023641|           435.9326631382193|     13.653773541219058|    1.4838073989447285|\n",
            "|    min| Albuquerque, NM|               42|                            27|                          27|                      1|                     1|\n",
            "|    max|White Plains, NY|             2885|                          2063|                        1933|                     68|                     6|\n",
            "+-------+----------------+-----------------+------------------------------+----------------------------+-----------------------+----------------------+\n",
            "\n"
          ]
        }
      ],
      "source": [
        "OnTimeCityReport.describe().show()"
      ]
    },
    {
      "cell_type": "code",
      "execution_count": null,
      "id": "a26c9ab8",
      "metadata": {
        "id": "a26c9ab8"
      },
      "outputs": [],
      "source": [
        "import pyspark.sql.functions as f\n",
        "from pyspark.sql.window import Window"
      ]
    },
    {
      "cell_type": "code",
      "execution_count": null,
      "id": "7b97db10",
      "metadata": {
        "colab": {
          "base_uri": "https://localhost:8080/"
        },
        "id": "7b97db10",
        "outputId": "64596666-ca25-42bf-9a09-a0998008df9f"
      },
      "outputs": [
        {
          "output_type": "stream",
          "name": "stdout",
          "text": [
            "+----------------+-------------+------------------------------+----------------------------+-----------------------+----------------------+-----------------+-----------------+\n",
            "|  OriginCityName|Total Flights|Total OnTime Departure Flights|Total OnTime Arrival Flights|Total Cancelled Flights|Total Diverted Flights| OnTimeDepPercent| OnTimeArrPercent|\n",
            "+----------------+-------------+------------------------------+----------------------------+-----------------------+----------------------+-----------------+-----------------+\n",
            "|     Ontario, CA|          228|                           190|                         176|                      3|                     1|83.33333333333334|77.19298245614034|\n",
            "|Palm Springs, CA|           57|                            46|                          42|                      3|                     2| 80.7017543859649|73.68421052631578|\n",
            "|    Columbus, OH|          277|                           219|                         209|                      6|                     3|79.06137184115524|75.45126353790613|\n",
            "+----------------+-------------+------------------------------+----------------------------+-----------------------+----------------------+-----------------+-----------------+\n",
            "only showing top 3 rows\n",
            "\n"
          ]
        }
      ],
      "source": [
        "# calculate result in percentage\n",
        "OnTimeCityReport\\\n",
        ".withColumn('OnTimeDepPercent', f.col('Total OnTime Departure Flights')/f.col('Total Flights')*100)\\\n",
        ".withColumn('OnTimeArrPercent', f.col('Total OnTime Arrival Flights')/f.col('Total Flights')*100)\\\n",
        ".show(3)"
      ]
    },
    {
      "cell_type": "code",
      "execution_count": null,
      "id": "3483a1c5",
      "metadata": {
        "colab": {
          "base_uri": "https://localhost:8080/"
        },
        "id": "3483a1c5",
        "outputId": "17f0917b-c2a1-4a76-92a8-919c5c31697b"
      },
      "outputs": [
        {
          "output_type": "stream",
          "name": "stdout",
          "text": [
            "+--------------------+-------------+------------------------------+----------------------------+-----------------------+----------------------+\n",
            "|      OriginCityName|Total Flights|Total OnTime Departure Flights|Total OnTime Arrival Flights|Total Cancelled Flights|Total Diverted Flights|\n",
            "+--------------------+-------------+------------------------------+----------------------------+-----------------------+----------------------+\n",
            "|         Chicago, IL|         2885|                          2063|                        1933|                     68|                     6|\n",
            "|         Atlanta, GA|         2456|                          1834|                        1758|                     36|                     6|\n",
            "|Dallas/Fort Worth...|         1990|                          1497|                        1396|                     36|                     5|\n",
            "|         Houston, TX|         1511|                          1156|                        1089|                     19|                     2|\n",
            "|          Denver, CO|         1528|                          1151|                        1087|                      9|                     6|\n",
            "|     Los Angeles, CA|         1569|                          1150|                        1114|                     26|                     4|\n",
            "|        New York, NY|         1502|                          1121|                        1022|                     52|                     2|\n",
            "|         Phoenix, AZ|         1304|                           955|                         932|                      9|                     3|\n",
            "|      Washington, DC|         1172|                           909|                         862|                     29|                     2|\n",
            "|     Minneapolis, MN|         1083|                           838|                         764|                     22|                     6|\n",
            "|         Detroit, MI|         1077|                           829|                         760|                     14|                     1|\n",
            "|       Las Vegas, NV|         1078|                           806|                         778|                      6|                     1|\n",
            "|   San Francisco, CA|         1065|                           805|                         730|                     20|                     1|\n",
            "|          Newark, NJ|          958|                           704|                         623|                     23|                     2|\n",
            "|  Salt Lake City, UT|          809|                           667|                         606|                      7|                     2|\n",
            "|       Charlotte, NC|          862|                           642|                         591|                     19|                     3|\n",
            "|         Seattle, WA|          824|                           637|                         603|                      8|                     3|\n",
            "|       St. Louis, MO|          825|                           632|                         580|                     13|                     3|\n",
            "|         Orlando, FL|          823|                           631|                         608|                     10|                     4|\n",
            "|          Boston, MA|          762|                           568|                         521|                     26|                     1|\n",
            "+--------------------+-------------+------------------------------+----------------------------+-----------------------+----------------------+\n",
            "only showing top 20 rows\n",
            "\n"
          ]
        }
      ],
      "source": [
        "from pyspark.sql.functions import col\n",
        "OnTimeCityReport.orderBy(col(\"Total OnTime Departure Flights\").desc(),col(\"Total OnTime Departure Flights\").desc()).show()"
      ]
    },
    {
      "cell_type": "code",
      "execution_count": null,
      "id": "aaa1b6bb",
      "metadata": {
        "colab": {
          "base_uri": "https://localhost:8080/"
        },
        "id": "aaa1b6bb",
        "outputId": "023f3be2-6e19-4695-fec0-ef637d0be85c"
      },
      "outputs": [
        {
          "output_type": "stream",
          "name": "stdout",
          "text": [
            "+-----------------------------------+\n",
            "|max(Total OnTime Departure Flights)|\n",
            "+-----------------------------------+\n",
            "|                               2063|\n",
            "+-----------------------------------+\n",
            "\n"
          ]
        }
      ],
      "source": [
        "OnTimeCityReport.groupBy().max('Total OnTime Departure Flights').show()"
      ]
    },
    {
      "cell_type": "code",
      "execution_count": null,
      "id": "a18c4cdd",
      "metadata": {
        "id": "a18c4cdd"
      },
      "outputs": [],
      "source": [
        "from pyspark.sql import Window\n",
        "import pyspark.sql.functions as psf\n",
        "wT_Flights = Window.orderBy(psf.desc(\"Total Flights\"))\n",
        "testdf1 = OnTimeCityReport.withColumn(\n",
        "    \"Total Flights_rank\", \n",
        "    psf.dense_rank().over(wT_Flights)\n",
        ")"
      ]
    },
    {
      "cell_type": "code",
      "execution_count": null,
      "id": "3a97aa73",
      "metadata": {
        "colab": {
          "base_uri": "https://localhost:8080/"
        },
        "id": "3a97aa73",
        "outputId": "679ca508-6b6b-4a28-ff9b-0555e30c5bb5"
      },
      "outputs": [
        {
          "output_type": "stream",
          "name": "stdout",
          "text": [
            "+--------------------+-------------+------------------------------+----------------------------+-----------------------+----------------------+------------------+\n",
            "|      OriginCityName|Total Flights|Total OnTime Departure Flights|Total OnTime Arrival Flights|Total Cancelled Flights|Total Diverted Flights|Total Flights_rank|\n",
            "+--------------------+-------------+------------------------------+----------------------------+-----------------------+----------------------+------------------+\n",
            "|         Chicago, IL|         2885|                          2063|                        1933|                     68|                     6|                 1|\n",
            "|         Atlanta, GA|         2456|                          1834|                        1758|                     36|                     6|                 2|\n",
            "|Dallas/Fort Worth...|         1990|                          1497|                        1396|                     36|                     5|                 3|\n",
            "|     Los Angeles, CA|         1569|                          1150|                        1114|                     26|                     4|                 4|\n",
            "|          Denver, CO|         1528|                          1151|                        1087|                      9|                     6|                 5|\n",
            "|         Houston, TX|         1511|                          1156|                        1089|                     19|                     2|                 6|\n",
            "|        New York, NY|         1502|                          1121|                        1022|                     52|                     2|                 7|\n",
            "|         Phoenix, AZ|         1304|                           955|                         932|                      9|                     3|                 8|\n",
            "|      Washington, DC|         1172|                           909|                         862|                     29|                     2|                 9|\n",
            "|     Minneapolis, MN|         1083|                           838|                         764|                     22|                     6|                10|\n",
            "+--------------------+-------------+------------------------------+----------------------------+-----------------------+----------------------+------------------+\n",
            "only showing top 10 rows\n",
            "\n"
          ]
        }
      ],
      "source": [
        "# top 10 airports by numbers of on time flights\n",
        "testdf1.show(10)"
      ]
    },
    {
      "cell_type": "code",
      "execution_count": null,
      "id": "cc390866",
      "metadata": {
        "id": "cc390866"
      },
      "outputs": [],
      "source": [
        ""
      ]
    },
    {
      "cell_type": "code",
      "execution_count": null,
      "id": "c8c51f6c",
      "metadata": {
        "id": "c8c51f6c"
      },
      "outputs": [],
      "source": [
        ""
      ]
    },
    {
      "cell_type": "code",
      "execution_count": null,
      "id": "d9605265",
      "metadata": {
        "id": "d9605265"
      },
      "outputs": [],
      "source": [
        ""
      ]
    }
  ],
  "metadata": {
    "kernelspec": {
      "display_name": "Python 3 (ipykernel)",
      "language": "python",
      "name": "python3"
    },
    "language_info": {
      "codemirror_mode": {
        "name": "ipython",
        "version": 3
      },
      "file_extension": ".py",
      "mimetype": "text/x-python",
      "name": "python",
      "nbconvert_exporter": "python",
      "pygments_lexer": "ipython3",
      "version": "3.9.7"
    },
    "colab": {
      "name": "dataframe2.ipynb",
      "provenance": [],
      "collapsed_sections": []
    }
  },
  "nbformat": 4,
  "nbformat_minor": 5
}